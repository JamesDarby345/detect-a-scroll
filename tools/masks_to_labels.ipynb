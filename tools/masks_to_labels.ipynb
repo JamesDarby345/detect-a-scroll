{
 "cells": [
  {
   "cell_type": "code",
   "execution_count": null,
   "metadata": {},
   "outputs": [],
   "source": [
    "S1_path = \"/Volumes/16TB_RAID_0/Scroll1/masked_volumes/20230205180739\"\n",
    "s2_path = \"/Volumes/16TB_RAID_0/Scroll2/masked_volumes/20230210143520\""
   ]
  }
 ],
 "metadata": {
  "kernelspec": {
   "display_name": "detectAScroll",
   "language": "python",
   "name": "python3"
  },
  "language_info": {
   "name": "python",
   "version": "3.11.8"
  }
 },
 "nbformat": 4,
 "nbformat_minor": 2
}
